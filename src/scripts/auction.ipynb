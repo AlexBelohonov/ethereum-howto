{
 "cells": [
  {
   "cell_type": "code",
   "execution_count": 1,
   "metadata": {
    "pycharm": {
     "is_executing": false
    }
   },
   "outputs": [],
   "source": [
    "from web3 import Web3, HTTPProvider"
   ]
  },
  {
   "cell_type": "code",
   "execution_count": 2,
   "metadata": {
    "pycharm": {
     "is_executing": false
    }
   },
   "outputs": [],
   "source": [
    "# load abi and bytecode\n",
    "with open('../contracts/auction/abi.json', 'r') as abi_file:\n",
    "    abi = abi_file.read()\n",
    "with open('../contracts/auction/bytecode', 'r') as bc:\n",
    "    bytecode = bc.read()"
   ]
  },
  {
   "cell_type": "code",
   "execution_count": 3,
   "metadata": {
    "pycharm": {}
   },
   "outputs": [],
   "source": [
    "# web3.py instance\n",
    "w3 = Web3(HTTPProvider('http://localhost:8545'))"
   ]
  },
  {
   "cell_type": "code",
   "execution_count": 4,
   "metadata": {
    "pycharm": {}
   },
   "outputs": [],
   "source": [
    "# account data\n",
    "owner_account_address = w3.toChecksumAddress('0xdc88f96bcbedbd92539fefe2c91148cb67d272e4')\n",
    "guest_account_address = w3.toChecksumAddress('0x0635c434ec5f88f7dc8e44e0b878116d71d2a658')\n",
    "owner_account_password = 'password'\n",
    "guest_account_password = 'second_password'"
   ]
  },
  {
   "cell_type": "code",
   "execution_count": 5,
   "metadata": {
    "pycharm": {}
   },
   "outputs": [],
   "source": [
    "# prepare contract object\n",
    "auction_deploy = w3.eth.contract(abi=abi, bytecode=bytecode)"
   ]
  },
  {
   "cell_type": "code",
   "execution_count": 6,
   "metadata": {
    "pycharm": {}
   },
   "outputs": [
    {
     "name": "stdout",
     "output_type": "stream",
     "text": [
      "777154549000001001 wei\n",
      "0.777154549000001001 ether\n"
     ]
    }
   ],
   "source": [
    "# get address balance before auction\n",
    "begin_owner_balance = w3.eth.getBalance(owner_account_address)\n",
    "print(begin_owner_balance, 'wei')\n",
    "print(Web3.fromWei(begin_owner_balance, 'ether'), 'ether')"
   ]
  },
  {
   "cell_type": "code",
   "execution_count": 7,
   "metadata": {
    "pycharm": {}
   },
   "outputs": [
    {
     "name": "stdout",
     "output_type": "stream",
     "text": [
      "0xdd87108179d55e886820e7b8eb5075513338deeee7f7805b9af0a4ec31729c67\n"
     ]
    }
   ],
   "source": [
    "# unlock account before transaction\n",
    "w3.personal.unlockAccount(owner_account_address, owner_account_password)\n",
    "# Submit the transaction which deploys the contract with biddingTime 300 seconds (5 minutes)\n",
    "tx_hash = auction_deploy.constructor(300).transact({\n",
    "    'from': owner_account_address\n",
    "})\n",
    "print(tx_hash.hex())"
   ]
  },
  {
   "cell_type": "code",
   "execution_count": 8,
   "metadata": {
    "pycharm": {},
    "scrolled": true
   },
   "outputs": [
    {
     "name": "stdout",
     "output_type": "stream",
     "text": [
      "AttributeDict({'blockHash': HexBytes('0x34ea577001a8d7df6db30af4bf7bba8476f0530f6c11fa3e24ef12920d26cf40'), 'blockNumber': 5813249, 'contractAddress': '0x698dB522b8810A9C0f85c1359BC23Ce48012dbd1', 'cumulativeGasUsed': 7072391, 'from': '0xdc88f96bcbedbd92539fefe2c91148cb67d272e4', 'gasUsed': 452494, 'logs': [], 'logsBloom': HexBytes('0x00000000000000000000000000000000000000000000000000000000000000000000000000000000000000000000000000000000000000000000000000000000000000000000000000000000000000000000000000000000000000000000000000000000000000000000000000000000000000000000000000000000000000000000000000000000000000000000000000000000000000000000000000000000000000000000000000000000000000000000000000000000000000000000000000000000000000000000000000000000000000000000000000000000000000000000000000000000000000000000000000000000000000000000000000000000'), 'status': 1, 'to': None, 'transactionHash': HexBytes('0xdd87108179d55e886820e7b8eb5075513338deeee7f7805b9af0a4ec31729c67'), 'transactionIndex': 22})\n"
     ]
    }
   ],
   "source": [
    "# Wait for the transaction to be mined, and get the transaction receipt\n",
    "tx_receipt = w3.eth.waitForTransactionReceipt(tx_hash)\n",
    "print(tx_receipt)"
   ]
  },
  {
   "cell_type": "code",
   "execution_count": 9,
   "metadata": {
    "pycharm": {}
   },
   "outputs": [],
   "source": [
    "# Create the contract instance with the newly-deployed address (can't use without address)\n",
    "contract = w3.eth.contract(\n",
    "    address = w3.toChecksumAddress(tx_receipt['contractAddress']),\n",
    "    abi=abi,\n",
    ")"
   ]
  },
  {
   "cell_type": "code",
   "execution_count": 10,
   "metadata": {
    "pycharm": {}
   },
   "outputs": [
    {
     "data": {
      "text/plain": [
       "True"
      ]
     },
     "execution_count": 10,
     "metadata": {},
     "output_type": "execute_result"
    }
   ],
   "source": [
    "# unlock account before transaction\n",
    "w3.personal.unlockAccount(owner_account_address, owner_account_password)"
   ]
  },
  {
   "cell_type": "code",
   "execution_count": 11,
   "metadata": {
    "pycharm": {}
   },
   "outputs": [
    {
     "name": "stdout",
     "output_type": "stream",
     "text": [
      "1000000000 current gas price in Wei, testnet\n",
      "63651 estimated for the transaction\n",
      "0.00843057495 payed for the transactions in USD\n"
     ]
    }
   ],
   "source": [
    "# prepare contract function object\n",
    "bid_obj = contract.functions.bid()\n",
    "bid_gas_estimated = bid_obj.estimateGas({\n",
    "    'from': owner_account_address,\n",
    "    'value': Web3.toWei(0.03, 'ether')\n",
    "})\n",
    "print(w3.eth.gasPrice, 'current gas price in Wei, testnet')\n",
    "print(bid_gas_estimated, 'estimated for the transaction')\n",
    "transaction_cost = float(Web3.fromWei(w3.eth.gasPrice * bid_gas_estimated, 'ether')) * 132.45\n",
    "print(transaction_cost, 'payed for the transactions in USD')"
   ]
  },
  {
   "cell_type": "code",
   "execution_count": 12,
   "metadata": {
    "pycharm": {}
   },
   "outputs": [
    {
     "name": "stdout",
     "output_type": "stream",
     "text": [
      "0xe49efa1abfa3053118f058450d03524a4e23294269ae96377673d008f99dc3fa\n"
     ]
    }
   ],
   "source": [
    "# 1 ether 132,45$ | 3.97$ == 0.03 == 30 000 000 000 000 000 wei\n",
    "bid_tx = bid_obj.transact({\n",
    "    'from': owner_account_address,\n",
    "    'value': Web3.toWei(0.03, 'ether'),\n",
    "    'gas': bid_gas_estimated,\n",
    "    'gas_price': w3.eth.gasPrice\n",
    "})\n",
    "print(bid_tx.hex())"
   ]
  },
  {
   "cell_type": "code",
   "execution_count": 13,
   "metadata": {
    "pycharm": {}
   },
   "outputs": [
    {
     "name": "stdout",
     "output_type": "stream",
     "text": [
      "AttributeDict({'blockHash': HexBytes('0xcafc653e3f6bd2e29faa9bb5c7286ab7357dda6762e70686c8094ca666836a65'), 'blockNumber': 5813252, 'contractAddress': None, 'cumulativeGasUsed': 6814540, 'from': '0xdc88f96bcbedbd92539fefe2c91148cb67d272e4', 'gasUsed': 63651, 'logs': [AttributeDict({'address': '0x698dB522b8810A9C0f85c1359BC23Ce48012dbd1', 'topics': [HexBytes('0xf4757a49b326036464bec6fe419a4ae38c8a02ce3e68bf0809674f6aab8ad300')], 'data': '0x000000000000000000000000dc88f96bcbedbd92539fefe2c91148cb67d272e4000000000000000000000000000000000000000000000000006a94d74f430000', 'blockNumber': 5813252, 'transactionHash': HexBytes('0xe49efa1abfa3053118f058450d03524a4e23294269ae96377673d008f99dc3fa'), 'transactionIndex': 10, 'blockHash': HexBytes('0xcafc653e3f6bd2e29faa9bb5c7286ab7357dda6762e70686c8094ca666836a65'), 'logIndex': 20, 'removed': False})], 'logsBloom': HexBytes('0x00000000000000000000000000800001000000000000000000000000000000000000000000000000000000000000000000000000000000000000000000000000000000000800000000000000000000000000000000000400000000000000000000000000000000000000000000000000000000000000000000000000000000000000000000000000000000000000000000000000000000000000000000000000000400000000000000000000000000000000000000000000000100000000000000000000000000000000000000000000000000000000000000000000000000000000000000000000000000000000000000000000000000000000000000000000'), 'status': 1, 'to': '0x698db522b8810a9c0f85c1359bc23ce48012dbd1', 'transactionHash': HexBytes('0xe49efa1abfa3053118f058450d03524a4e23294269ae96377673d008f99dc3fa'), 'transactionIndex': 10})\n"
     ]
    }
   ],
   "source": [
    "# Wait for the transaction to be mined, and get the transaction receipt\n",
    "print(w3.eth.waitForTransactionReceipt(bid_tx))"
   ]
  },
  {
   "cell_type": "code",
   "execution_count": 14,
   "metadata": {
    "pycharm": {}
   },
   "outputs": [
    {
     "name": "stdout",
     "output_type": "stream",
     "text": [
      "0xdC88f96BCBEdbD92539Fefe2c91148Cb67d272E4 highestBidder\n",
      "30000000000000000 highestBid\n"
     ]
    }
   ],
   "source": [
    "# get highestBidder using call()\n",
    "print(contract.functions.highestBidder().call(), 'highestBidder')\n",
    "# get highestBid\n",
    "print(contract.functions.highestBid().call(), 'highestBid')"
   ]
  },
  {
   "cell_type": "code",
   "execution_count": 15,
   "metadata": {
    "pycharm": {}
   },
   "outputs": [
    {
     "data": {
      "text/plain": [
       "True"
      ]
     },
     "execution_count": 15,
     "metadata": {},
     "output_type": "execute_result"
    }
   ],
   "source": [
    "# make another bid with other account, bid is less then previous\n",
    "w3.personal.unlockAccount(guest_account_address, guest_account_password)"
   ]
  },
  {
   "cell_type": "code",
   "execution_count": 16,
   "metadata": {
    "pycharm": {}
   },
   "outputs": [
    {
     "name": "stdout",
     "output_type": "stream",
     "text": [
      "AttributeDict({'blockHash': HexBytes('0x5e9f8b97d89624ba6095911c190374c0cd53727624a5273142acfced15837820'), 'blockNumber': 5813253, 'contractAddress': None, 'cumulativeGasUsed': 7885649, 'from': '0x0635c434ec5f88f7dc8e44e0b878116d71d2a658', 'gasUsed': 54416, 'logs': [AttributeDict({'address': '0x698dB522b8810A9C0f85c1359BC23Ce48012dbd1', 'topics': [HexBytes('0xf4757a49b326036464bec6fe419a4ae38c8a02ce3e68bf0809674f6aab8ad300')], 'data': '0x0000000000000000000000000635c434ec5f88f7dc8e44e0b878116d71d2a658000000000000000000000000000000000000000000000000008e1bc9bf040000', 'blockNumber': 5813253, 'transactionHash': HexBytes('0xab9ffb6c1f8fefbd640585cee8ccc09109fb7ffeb15437587e6f907f1532156d'), 'transactionIndex': 36, 'blockHash': HexBytes('0x5e9f8b97d89624ba6095911c190374c0cd53727624a5273142acfced15837820'), 'logIndex': 23, 'removed': False})], 'logsBloom': HexBytes('0x00000000000000000000000000800001000000000000000000000000000000000000000000000000000000000000000000000000000000000000000000000000000000000800000000000000000000000000000000000400000000000000000000000000000000000000000000000000000000000000000000000000000000000000000000000000000000000000000000000000000000000000000000000000000400000000000000000000000000000000000000000000000100000000000000000000000000000000000000000000000000000000000000000000000000000000000000000000000000000000000000000000000000000000000000000000'), 'status': 1, 'to': '0x698db522b8810a9c0f85c1359bc23ce48012dbd1', 'transactionHash': HexBytes('0xab9ffb6c1f8fefbd640585cee8ccc09109fb7ffeb15437587e6f907f1532156d'), 'transactionIndex': 36})\n"
     ]
    }
   ],
   "source": [
    "# 1 ether 132,45$ | 5.30$ == 0.040 == 40 000 000 000 000 000 wei\n",
    "bid_tx = bid_obj.transact({\n",
    "    'from': guest_account_address,\n",
    "    'value': Web3.toWei(0.040, 'ether'),\n",
    "})\n",
    "print(w3.eth.waitForTransactionReceipt(bid_tx))"
   ]
  },
  {
   "cell_type": "code",
   "execution_count": 17,
   "metadata": {
    "pycharm": {}
   },
   "outputs": [
    {
     "name": "stdout",
     "output_type": "stream",
     "text": [
      "0x0635c434EC5F88F7Dc8E44E0B878116d71D2A658 highestBidder\n",
      "40000000000000000 highestBid\n"
     ]
    }
   ],
   "source": [
    "# get highestBidder using call()\n",
    "print(contract.functions.highestBidder().call(), 'highestBidder')\n",
    "# get highestBid\n",
    "print(contract.functions.highestBid().call(), 'highestBid')"
   ]
  },
  {
   "cell_type": "code",
   "execution_count": 18,
   "metadata": {
    "pycharm": {}
   },
   "outputs": [
    {
     "name": "stdout",
     "output_type": "stream",
     "text": [
      "746638404000001001 wei\n",
      "0.746638404000001001 ether\n"
     ]
    }
   ],
   "source": [
    "# get address balance before withdraw\n",
    "begin_owner_balance = w3.eth.getBalance(owner_account_address)\n",
    "print(begin_owner_balance, 'wei')\n",
    "print(Web3.fromWei(begin_owner_balance, 'ether'), 'ether')"
   ]
  },
  {
   "cell_type": "code",
   "execution_count": 19,
   "metadata": {
    "pycharm": {}
   },
   "outputs": [
    {
     "data": {
      "text/plain": [
       "True"
      ]
     },
     "execution_count": 19,
     "metadata": {},
     "output_type": "execute_result"
    }
   ],
   "source": [
    "# unlock account before transaction\n",
    "w3.personal.unlockAccount(owner_account_address, owner_account_password)"
   ]
  },
  {
   "cell_type": "code",
   "execution_count": 20,
   "metadata": {
    "pycharm": {}
   },
   "outputs": [
    {
     "name": "stdout",
     "output_type": "stream",
     "text": [
      "0xc95a4cf81c730eed12fbb5879762f5421c7e9fa6932ecdc500e3c3cb70497059\n"
     ]
    }
   ],
   "source": [
    "# withdraw bid, owner\n",
    "withdraw_obj = contract.functions.withdraw()\n",
    "withdraw_tx = withdraw_obj.transact({\n",
    "    'from': owner_account_address,\n",
    "})\n",
    "print(withdraw_tx.hex())"
   ]
  },
  {
   "cell_type": "code",
   "execution_count": 21,
   "metadata": {
    "pycharm": {}
   },
   "outputs": [
    {
     "name": "stdout",
     "output_type": "stream",
     "text": [
      "AttributeDict({'blockHash': HexBytes('0x640789939532f04852c1a1ac7445d08e0d4cdb5dc3dce12559b89e80f7fc48e9'), 'blockNumber': 5813256, 'contractAddress': None, 'cumulativeGasUsed': 6644198, 'from': '0xdc88f96bcbedbd92539fefe2c91148cb67d272e4', 'gasUsed': 19410, 'logs': [], 'logsBloom': HexBytes('0x00000000000000000000000000000000000000000000000000000000000000000000000000000000000000000000000000000000000000000000000000000000000000000000000000000000000000000000000000000000000000000000000000000000000000000000000000000000000000000000000000000000000000000000000000000000000000000000000000000000000000000000000000000000000000000000000000000000000000000000000000000000000000000000000000000000000000000000000000000000000000000000000000000000000000000000000000000000000000000000000000000000000000000000000000000000'), 'status': 1, 'to': '0x698db522b8810a9c0f85c1359bc23ce48012dbd1', 'transactionHash': HexBytes('0xc95a4cf81c730eed12fbb5879762f5421c7e9fa6932ecdc500e3c3cb70497059'), 'transactionIndex': 15})\n"
     ]
    }
   ],
   "source": [
    "# Wait for the transaction to be mined, and get the transaction receipt\n",
    "print(w3.eth.waitForTransactionReceipt(withdraw_tx))"
   ]
  },
  {
   "cell_type": "code",
   "execution_count": 22,
   "metadata": {
    "pycharm": {}
   },
   "outputs": [
    {
     "name": "stdout",
     "output_type": "stream",
     "text": [
      "776618994000001001 wei\n",
      "0.776618994000001001 ether\n"
     ]
    }
   ],
   "source": [
    "# get address balance after withdraw\n",
    "begin_owner_balance = w3.eth.getBalance(owner_account_address)\n",
    "print(begin_owner_balance, 'wei')\n",
    "print(Web3.fromWei(begin_owner_balance, 'ether'), 'ether')"
   ]
  },
  {
   "cell_type": "code",
   "execution_count": 23,
   "metadata": {
    "pycharm": {}
   },
   "outputs": [
    {
     "name": "stdout",
     "output_type": "stream",
     "text": [
      "1560793659\n"
     ]
    }
   ],
   "source": [
    "# get auctionEndTime using call()\n",
    "auction_end_time = contract.functions.auctionEndTime().call()\n",
    "print(auction_end_time)"
   ]
  },
  {
   "cell_type": "code",
   "execution_count": 24,
   "metadata": {
    "pycharm": {}
   },
   "outputs": [
    {
     "name": "stdout",
     "output_type": "stream",
     "text": [
      "0xdC88f96BCBEdbD92539Fefe2c91148Cb67d272E4\n"
     ]
    }
   ],
   "source": [
    "# get beneficiary address\n",
    "print(contract.functions.beneficiary().call())"
   ]
  },
  {
   "cell_type": "code",
   "execution_count": 27,
   "metadata": {
    "pycharm": {}
   },
   "outputs": [
    {
     "data": {
      "text/plain": [
       "True"
      ]
     },
     "execution_count": 27,
     "metadata": {},
     "output_type": "execute_result"
    }
   ],
   "source": [
    "# unlock account to transact\n",
    "w3.personal.unlockAccount(owner_account_address, owner_account_password)"
   ]
  },
  {
   "cell_type": "code",
   "execution_count": 28,
   "metadata": {
    "pycharm": {}
   },
   "outputs": [
    {
     "name": "stdout",
     "output_type": "stream",
     "text": [
      "AttributeDict({'blockHash': HexBytes('0x8903dcf4cbafabacfa4b0e05b0e54fb6ebd5846cd2868b50baee0f68e5d4ab9d'), 'blockNumber': 5813294, 'contractAddress': None, 'cumulativeGasUsed': 1652730, 'from': '0xdc88f96bcbedbd92539fefe2c91148cb67d272e4', 'gasUsed': 51919, 'logs': [AttributeDict({'address': '0x698dB522b8810A9C0f85c1359BC23Ce48012dbd1', 'topics': [HexBytes('0xdaec4582d5d9595688c8c98545fdd1c696d41c6aeaeb636737e84ed2f5c00eda')], 'data': '0x0000000000000000000000000635c434ec5f88f7dc8e44e0b878116d71d2a658000000000000000000000000000000000000000000000000008e1bc9bf040000', 'blockNumber': 5813294, 'transactionHash': HexBytes('0xe360fc5cb88282ff311bc5c3daa4315d8859680857974615884f48d6fddaa3ea'), 'transactionIndex': 43, 'blockHash': HexBytes('0x8903dcf4cbafabacfa4b0e05b0e54fb6ebd5846cd2868b50baee0f68e5d4ab9d'), 'logIndex': 8, 'removed': False})], 'logsBloom': HexBytes('0x00000000000000000000000000000001000000000000000000000000000000000000000000000000000000000000000000000000000000000000000000000000000000000800000000000000000000000000000000000000000000000000000000000000000000000000000000000000000000000000000000000000000000000000000000000000000000000000000000000000000000000001000000000000000400000000000000000000000000000000000000000000000000000040000000000000000000000000001000000000000000000000000000000000000000000000000000000000000000000000000000000000000000000000000000000000'), 'status': 1, 'to': '0x698db522b8810a9c0f85c1359bc23ce48012dbd1', 'transactionHash': HexBytes('0xe360fc5cb88282ff311bc5c3daa4315d8859680857974615884f48d6fddaa3ea'), 'transactionIndex': 43})\n"
     ]
    }
   ],
   "source": [
    "# finish auction if now >= auctionEndTime, transfer data of highestBid to auction owner\n",
    "auction_end_obj = contract.functions.auctionEnd()\n",
    "auction_end_tx = auction_end_obj.transact({\n",
    "    'from': owner_account_address,\n",
    "})\n",
    "print(w3.eth.waitForTransactionReceipt(auction_end_tx.hex()))"
   ]
  },
  {
   "cell_type": "code",
   "execution_count": 29,
   "metadata": {
    "pycharm": {}
   },
   "outputs": [
    {
     "name": "stdout",
     "output_type": "stream",
     "text": [
      "0.776618994000001001 begin balance ether\n",
      "0.816567075000001001 end balance ether\n"
     ]
    }
   ],
   "source": [
    "# get address balance after auction\n",
    "owner_balance = w3.eth.getBalance(owner_account_address)\n",
    "print(Web3.fromWei(begin_owner_balance, 'ether'), 'begin balance ether')\n",
    "print(Web3.fromWei(owner_balance, 'ether'), 'end balance ether')"
   ]
  }
 ],
 "metadata": {
  "kernelspec": {
   "display_name": "Python 3",
   "language": "python",
   "name": "python3"
  },
  "language_info": {
   "codemirror_mode": {
    "name": "ipython",
    "version": 3
   },
   "file_extension": ".py",
   "mimetype": "text/x-python",
   "name": "python",
   "nbconvert_exporter": "python",
   "pygments_lexer": "ipython3",
   "version": "3.7.0"
  },
  "pycharm": {
   "stem_cell": {
    "cell_type": "raw",
    "metadata": {
     "collapsed": false
    },
    "source": []
   }
  }
 },
 "nbformat": 4,
 "nbformat_minor": 2
}
