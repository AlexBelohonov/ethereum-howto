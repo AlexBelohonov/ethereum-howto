{
 "cells": [
  {
   "cell_type": "code",
   "execution_count": null,
   "metadata": {},
   "outputs": [],
   "source": [
    "import json\n",
    "\n",
    "from web3 import Web3, HTTPProvider"
   ]
  },
  {
   "cell_type": "code",
   "execution_count": null,
   "metadata": {},
   "outputs": [],
   "source": [
    "# load abi and bytecode\n",
    "with open('../contracts/auction/abi.json', 'r') as abi_file:\n",
    "    abi = abi_file.read()\n",
    "with open('../contracts/auction/bytecode', 'r') as bc:\n",
    "    bytecode = bc.read()"
   ]
  },
  {
   "cell_type": "code",
   "execution_count": null,
   "metadata": {},
   "outputs": [],
   "source": [
    "# web3.py instance\n",
    "w3 = Web3(HTTPProvider(\"http://127.0.0.1:8545\"))"
   ]
  },
  {
   "cell_type": "code",
   "execution_count": null,
   "metadata": {},
   "outputs": [],
   "source": [
    "# account data\n",
    "owner_account_address = w3.toChecksumAddress(\"0x0026982384f0a6c6622a01a049f9fcdcab8f0c03\")\n",
    "guest_account_address = w3.toChecksumAddress(\"0x00221666689B516DF1f74d8E66b4F6747BB9D038\")\n",
    "owner_account_password = \"password\"\n",
    "guest_account_password = \"second_password\""
   ]
  },
  {
   "cell_type": "code",
   "execution_count": null,
   "metadata": {},
   "outputs": [],
   "source": [
    "# get address balance before auction\n",
    "begin_owner_balance = w3.eth.getBalance(owner_account_address)\n",
    "print(begin_owner_balance, \"wei\")\n",
    "print(Web3.fromWei(begin_owner_balance, \"ether\"), \"ether\")"
   ]
  },
  {
   "cell_type": "code",
   "execution_count": null,
   "metadata": {},
   "outputs": [],
   "source": [
    "# prepare contract object\n",
    "auction_deploy = w3.eth.contract(abi=abi, bytecode=bytecode)"
   ]
  },
  {
   "cell_type": "code",
   "execution_count": null,
   "metadata": {},
   "outputs": [],
   "source": [
    "# unlock account before transaction\n",
    "w3.personal.unlockAccount(owner_account_address, owner_account_password)\n",
    "# Submit the transaction which deploys the contract with biddingTime 120 seconds\n",
    "tx_hash = auction_deploy.constructor(18).transact({\n",
    "    \"from\": owner_account_address\n",
    "})\n",
    "print(tx_hash.hex())"
   ]
  },
  {
   "cell_type": "code",
   "execution_count": null,
   "metadata": {},
   "outputs": [],
   "source": [
    "# Wait for the transaction to be mined, and get the transaction receipt\n",
    "tx_receipt = w3.eth.waitForTransactionReceipt(tx_hash)\n",
    "print(tx_receipt)"
   ]
  },
  {
   "cell_type": "code",
   "execution_count": null,
   "metadata": {},
   "outputs": [],
   "source": [
    "# Create the contract instance with the newly-deployed address (can't use without address)\n",
    "contract = w3.eth.contract(\n",
    "    # address=tx_receipt.contractAddress,\n",
    "    address = w3.toChecksumAddress(\"0x61d9b0bbbe187e44493ebd6a32ff440b0b14a6a9\"),\n",
    "    abi=abi,\n",
    ")"
   ]
  },
  {
   "cell_type": "code",
   "execution_count": null,
   "metadata": {},
   "outputs": [],
   "source": [
    "# unlock account before transaction\n",
    "w3.personal.unlockAccount(owner_account_address, owner_account_password)"
   ]
  },
  {
   "cell_type": "code",
   "execution_count": null,
   "metadata": {},
   "outputs": [],
   "source": [
    "# prepare contract function object\n",
    "bid_obj = contract.functions.bid()"
   ]
  },
  {
   "cell_type": "code",
   "execution_count": null,
   "metadata": {},
   "outputs": [],
   "source": [
    "# 1 ether 124,55$ | 5$ == 0.040 == 40 000 000 000 000 000 wei\n",
    "bid_tx = bid_obj.transact({\n",
    "    \"from\": owner_account_address,\n",
    "    \"value\": Web3.toWei(0.040, 'ether'),\n",
    "})\n",
    "print(bid_tx.hex())"
   ]
  },
  {
   "cell_type": "code",
   "execution_count": null,
   "metadata": {},
   "outputs": [],
   "source": [
    "# Wait for the transaction to be mined, and get the transaction receipt\n",
    "print(w3.eth.waitForTransactionReceipt(bid_tx))"
   ]
  },
  {
   "cell_type": "code",
   "execution_count": null,
   "metadata": {},
   "outputs": [],
   "source": [
    "# get highestBidder using call()\n",
    "print(contract.functions.highestBidder().call(), \"highestBidder\")\n",
    "# get highestBid\n",
    "print(contract.functions.highestBid().call(), \"highestBid\")"
   ]
  },
  {
   "cell_type": "code",
   "execution_count": null,
   "metadata": {},
   "outputs": [],
   "source": [
    "# make another bid with other account, bid is less then previous\n",
    "w3.personal.unlockAccount(guest_account_address, guest_account_password)"
   ]
  },
  {
   "cell_type": "code",
   "execution_count": null,
   "metadata": {},
   "outputs": [],
   "source": [
    "# 0.03 == 30 000 000 000 000 000 wei\n",
    "bid_tx = bid_obj.transact({\n",
    "    \"from\": guest_account_address,\n",
    "    \"value\": Web3.toWei(0.03, 'ether'),\n",
    "})\n",
    "print(w3.eth.waitForTransactionReceipt(bid_tx))"
   ]
  },
  {
   "cell_type": "code",
   "execution_count": null,
   "metadata": {},
   "outputs": [],
   "source": [
    "# results shoud be the same as above\n",
    "# get highestBidder using call()\n",
    "print(contract.functions.highestBidder().call(), \"highestBidder\")\n",
    "# get highestBid\n",
    "print(contract.functions.highestBid().call(), \"highestBid\")"
   ]
  },
  {
   "cell_type": "code",
   "execution_count": null,
   "metadata": {},
   "outputs": [],
   "source": [
    "# unlock account before transaction\n",
    "w3.personal.unlockAccount(owner_account_address, owner_account_password)"
   ]
  },
  {
   "cell_type": "code",
   "execution_count": null,
   "metadata": {},
   "outputs": [],
   "source": [
    "# withdraw bid, owner\n",
    "withdraw_obj = contract.functions.withdraw()\n",
    "withdraw_tx = withdraw_obj.transact({\n",
    "    \"from\": owner_account_address,\n",
    "})\n",
    "print(withdraw_tx.hex())"
   ]
  },
  {
   "cell_type": "code",
   "execution_count": null,
   "metadata": {},
   "outputs": [],
   "source": [
    "# Wait for the transaction to be mined, and get the transaction receipt\n",
    "print(w3.eth.waitForTransactionReceipt(withdraw_tx))"
   ]
  },
  {
   "cell_type": "code",
   "execution_count": null,
   "metadata": {},
   "outputs": [],
   "source": [
    "# results different - second account shoud be here\n",
    "# get highestBidder using call()\n",
    "print(contract.functions.highestBidder().call(), \"highestBidder\")\n",
    "# get highestBid\n",
    "print(contract.functions.highestBid().call(), \"highestBid\")"
   ]
  },
  {
   "cell_type": "code",
   "execution_count": null,
   "metadata": {},
   "outputs": [],
   "source": [
    "# get auctionEndTime using call()\n",
    "auction_end_time = contract.functions.auctionEndTime().call()\n",
    "print(auction_end_time)\n",
    "print(datetime.utcfromtimestamp(auction_end_time).strftime('%Y-%m-%d %H:%M:%S'))"
   ]
  },
  {
   "cell_type": "code",
   "execution_count": null,
   "metadata": {},
   "outputs": [],
   "source": [
    "# get beneficiary address\n",
    "print(contract.functions.beneficiary().call())"
   ]
  },
  {
   "cell_type": "code",
   "execution_count": null,
   "metadata": {},
   "outputs": [],
   "source": [
    "# unlock account to transact\n",
    "w3.personal.unlockAccount(owner_account_address, owner_account_password)"
   ]
  },
  {
   "cell_type": "code",
   "execution_count": null,
   "metadata": {},
   "outputs": [],
   "source": [
    "# finish auction if now >= auctionEndTime, transfer data of highestBid to auction owner\n",
    "auction_end_obj = contract.functions.auctionEnd()\n",
    "auction_end_tx = auction_end_obj.transact({\n",
    "    \"from\": owner_account_address,\n",
    "})\n",
    "print(w3.eth.waitForTransactionReceipt(auction_end_tx.hex()))"
   ]
  },
  {
   "cell_type": "code",
   "execution_count": null,
   "metadata": {},
   "outputs": [],
   "source": [
    "# get address balance after auction\n",
    "owner_balance = w3.eth.getBalance(owner_account_address)\n",
    "print(Web3.fromWei(begin_owner_balance, \"ether\"), \"begin balance 'ether'\")\n",
    "print(Web3.fromWei(owner_balance, \"ether\"), \"end balance 'ether'\")"
   ]
  }
 ],
 "metadata": {
  "kernelspec": {
   "display_name": "Python 3",
   "language": "python",
   "name": "python3"
  },
  "language_info": {
   "codemirror_mode": {
    "name": "ipython",
    "version": 3
   },
   "file_extension": ".py",
   "mimetype": "text/x-python",
   "name": "python",
   "nbconvert_exporter": "python",
   "pygments_lexer": "ipython3",
   "version": "3.7.0"
  }
 },
 "nbformat": 4,
 "nbformat_minor": 2
}
