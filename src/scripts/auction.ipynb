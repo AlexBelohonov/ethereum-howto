{
 "cells": [
  {
   "cell_type": "code",
   "execution_count": 29,
   "metadata": {
    "pycharm": {
     "is_executing": false
    }
   },
   "outputs": [],
   "source": [
    "from web3 import Web3, HTTPProvider"
   ]
  },
  {
   "cell_type": "code",
   "execution_count": 30,
   "metadata": {
    "pycharm": {
     "is_executing": false
    }
   },
   "outputs": [],
   "source": [
    "# load abi and bytecode\n",
    "with open('../contracts/auction/abi.json', 'r') as abi_file:\n",
    "    abi = abi_file.read()\n",
    "with open('../contracts/auction/bytecode', 'r') as bc:\n",
    "    bytecode = bc.read()"
   ]
  },
  {
   "cell_type": "code",
   "execution_count": 31,
   "metadata": {
    "pycharm": {}
   },
   "outputs": [],
   "source": [
    "# web3.py instance\n",
    "w3 = Web3(HTTPProvider('http://localhost:8545'))"
   ]
  },
  {
   "cell_type": "code",
   "execution_count": 32,
   "metadata": {
    "pycharm": {}
   },
   "outputs": [],
   "source": [
    "# account data\n",
    "owner_account_address = w3.toChecksumAddress('0xdc88f96bcbedbd92539fefe2c91148cb67d272e4')\n",
    "guest_account_address = w3.toChecksumAddress('0x0635c434ec5f88f7dc8e44e0b878116d71d2a658')\n",
    "owner_account_password = 'password'\n",
    "guest_account_password = 'second_password'"
   ]
  },
  {
   "cell_type": "code",
   "execution_count": 33,
   "metadata": {
    "pycharm": {}
   },
   "outputs": [],
   "source": [
    "# prepare contract object\n",
    "auction_deploy = w3.eth.contract(abi=abi, bytecode=bytecode)"
   ]
  },
  {
   "cell_type": "code",
   "execution_count": 34,
   "metadata": {
    "pycharm": {}
   },
   "outputs": [
    {
     "name": "stdout",
     "output_type": "stream",
     "text": [
      "768258168000001001 wei\n",
      "0.768258168000001001 ether\n"
     ]
    }
   ],
   "source": [
    "# get address balance before auction\n",
    "begin_owner_balance = w3.eth.getBalance(owner_account_address)\n",
    "print(begin_owner_balance, 'wei')\n",
    "print(Web3.fromWei(begin_owner_balance, 'ether'), 'ether')"
   ]
  },
  {
   "cell_type": "code",
   "execution_count": 35,
   "metadata": {
    "pycharm": {}
   },
   "outputs": [
    {
     "name": "stdout",
     "output_type": "stream",
     "text": [
      "0xebc933b096e185d5f60c80bac256e3d1f1707e0decd09e123a48b56c71fa6395\n"
     ]
    }
   ],
   "source": [
    "# unlock account before transaction\n",
    "w3.personal.unlockAccount(owner_account_address, owner_account_password)\n",
    "# Submit the transaction which deploys the contract with biddingTime 300 seconds (5 minutes)\n",
    "tx_hash = auction_deploy.constructor(300).transact({\n",
    "    'from': owner_account_address\n",
    "})\n",
    "print(tx_hash.hex())"
   ]
  },
  {
   "cell_type": "code",
   "execution_count": 36,
   "metadata": {
    "pycharm": {},
    "scrolled": true
   },
   "outputs": [
    {
     "name": "stdout",
     "output_type": "stream",
     "text": [
      "AttributeDict({'blockHash': HexBytes('0x5db333239434df7d4d18035738a8637fefc55cc53770b644cda02535fb6e8ba7'), 'blockNumber': 5682282, 'contractAddress': '0x4ab8Dda9Af5eA9D8d02bc0735066a48B11F5cFC8', 'cumulativeGasUsed': 6784121, 'from': '0xdc88f96bcbedbd92539fefe2c91148cb67d272e4', 'gasUsed': 452494, 'logs': [], 'logsBloom': HexBytes('0x00000000000000000000000000000000000000000000000000000000000000000000000000000000000000000000000000000000000000000000000000000000000000000000000000000000000000000000000000000000000000000000000000000000000000000000000000000000000000000000000000000000000000000000000000000000000000000000000000000000000000000000000000000000000000000000000000000000000000000000000000000000000000000000000000000000000000000000000000000000000000000000000000000000000000000000000000000000000000000000000000000000000000000000000000000000'), 'status': 1, 'to': None, 'transactionHash': HexBytes('0xebc933b096e185d5f60c80bac256e3d1f1707e0decd09e123a48b56c71fa6395'), 'transactionIndex': 48})\n"
     ]
    }
   ],
   "source": [
    "# Wait for the transaction to be mined, and get the transaction receipt\n",
    "tx_receipt = w3.eth.waitForTransactionReceipt(tx_hash)\n",
    "print(tx_receipt)"
   ]
  },
  {
   "cell_type": "code",
   "execution_count": 37,
   "metadata": {
    "pycharm": {}
   },
   "outputs": [],
   "source": [
    "# Create the contract instance with the newly-deployed address (can't use without address)\n",
    "contract = w3.eth.contract(\n",
    "    address = w3.toChecksumAddress(tx_receipt['contractAddress']),\n",
    "    abi=abi,\n",
    ")"
   ]
  },
  {
   "cell_type": "code",
   "execution_count": 38,
   "metadata": {
    "pycharm": {}
   },
   "outputs": [
    {
     "data": {
      "text/plain": [
       "True"
      ]
     },
     "execution_count": 38,
     "metadata": {},
     "output_type": "execute_result"
    }
   ],
   "source": [
    "# unlock account before transaction\n",
    "w3.personal.unlockAccount(owner_account_address, owner_account_password)"
   ]
  },
  {
   "cell_type": "code",
   "execution_count": 39,
   "metadata": {
    "pycharm": {}
   },
   "outputs": [
    {
     "name": "stdout",
     "output_type": "stream",
     "text": [
      "1000000000 current gas price in Wei, testnet\n",
      "63651 estimated for the transaction\n",
      "0.00843057495 payed for the transactions in USD\n",
      "0.00843057495 payed for the transactions in USD\n"
     ]
    }
   ],
   "source": [
    "# prepare contract function object\n",
    "bid_obj = contract.functions.bid()\n",
    "bid_gas_estimated = bid_obj.estimateGas({\n",
    "    'from': owner_account_address,\n",
    "    'value': Web3.toWei(0.03, 'ether')\n",
    "})\n",
    "print(w3.eth.gasPrice, 'current gas price in Wei, testnet')\n",
    "print(bid_gas_estimated, 'estimated for the transaction')\n",
    "transaction_cost = float(Web3.fromWei(w3.eth.gasPrice * bid_gas_estimated, 'ether')) * 132.45\n",
    "print(transaction_cost, 'payed for the transactions in USD')"
   ]
  },
  {
   "cell_type": "code",
   "execution_count": 40,
   "metadata": {
    "pycharm": {}
   },
   "outputs": [
    {
     "name": "stdout",
     "output_type": "stream",
     "text": [
      "0xafbc3d221cbf2bfd6486adcae536411e4866db040652f8da25a5e1ac24ccb913\n"
     ]
    }
   ],
   "source": [
    "# 1 ether 132,45$ | 3.97$ == 0.03 == 30 000 000 000 000 000 wei\n",
    "bid_tx = bid_obj.transact({\n",
    "    'from': owner_account_address,\n",
    "    'value': Web3.toWei(0.03, 'ether'),\n",
    "    'gas': bid_gas_estimated,\n",
    "    'gas_price': w3.eth.gasPrice\n",
    "})\n",
    "print(bid_tx.hex())"
   ]
  },
  {
   "cell_type": "code",
   "execution_count": 41,
   "metadata": {
    "pycharm": {}
   },
   "outputs": [
    {
     "name": "stdout",
     "output_type": "stream",
     "text": [
      "AttributeDict({'blockHash': HexBytes('0xd0263cd43f9386410b97bf60b1afe23a63e4ea7923775bcd0266aac9f61652f5'), 'blockNumber': 5682293, 'contractAddress': None, 'cumulativeGasUsed': 6951541, 'from': '0xdc88f96bcbedbd92539fefe2c91148cb67d272e4', 'gasUsed': 63651, 'logs': [AttributeDict({'address': '0x4ab8Dda9Af5eA9D8d02bc0735066a48B11F5cFC8', 'topics': [HexBytes('0xf4757a49b326036464bec6fe419a4ae38c8a02ce3e68bf0809674f6aab8ad300')], 'data': '0x000000000000000000000000dc88f96bcbedbd92539fefe2c91148cb67d272e4000000000000000000000000000000000000000000000000006a94d74f430000', 'blockNumber': 5682293, 'transactionHash': HexBytes('0xafbc3d221cbf2bfd6486adcae536411e4866db040652f8da25a5e1ac24ccb913'), 'transactionIndex': 62, 'blockHash': HexBytes('0xd0263cd43f9386410b97bf60b1afe23a63e4ea7923775bcd0266aac9f61652f5'), 'logIndex': 77, 'removed': False})], 'logsBloom': HexBytes('0x00000000000000000000000000800000000000000000000000000000000000000000000000000000000000000000000000000000000000000010000000000000000000000000000000000000000000000000000000000400000000000000000000000000000000000000000000000000000000000000000000000000000000000000440000000000000000000000000000000000000000000000000000000000000000000000000000000000000000000000000000000000000100000000000000000000000000000000000000000000000000000000000000000000000000000000000000000000000000000000000000000000000000000000000000000000'), 'status': 1, 'to': '0x4ab8dda9af5ea9d8d02bc0735066a48b11f5cfc8', 'transactionHash': HexBytes('0xafbc3d221cbf2bfd6486adcae536411e4866db040652f8da25a5e1ac24ccb913'), 'transactionIndex': 62})\n"
     ]
    }
   ],
   "source": [
    "# Wait for the transaction to be mined, and get the transaction receipt\n",
    "print(w3.eth.waitForTransactionReceipt(bid_tx))"
   ]
  },
  {
   "cell_type": "code",
   "execution_count": 42,
   "metadata": {
    "pycharm": {}
   },
   "outputs": [
    {
     "name": "stdout",
     "output_type": "stream",
     "text": [
      "0xdC88f96BCBEdbD92539Fefe2c91148Cb67d272E4 highestBidder\n",
      "30000000000000000 highestBid\n"
     ]
    }
   ],
   "source": [
    "# get highestBidder using call()\n",
    "print(contract.functions.highestBidder().call(), 'highestBidder')\n",
    "# get highestBid\n",
    "print(contract.functions.highestBid().call(), 'highestBid')"
   ]
  },
  {
   "cell_type": "code",
   "execution_count": 43,
   "metadata": {
    "pycharm": {}
   },
   "outputs": [
    {
     "data": {
      "text/plain": [
       "True"
      ]
     },
     "execution_count": 43,
     "metadata": {},
     "output_type": "execute_result"
    }
   ],
   "source": [
    "# make another bid with other account, bid is less then previous\n",
    "w3.personal.unlockAccount(guest_account_address, guest_account_password)"
   ]
  },
  {
   "cell_type": "code",
   "execution_count": 44,
   "metadata": {
    "pycharm": {}
   },
   "outputs": [
    {
     "name": "stdout",
     "output_type": "stream",
     "text": [
      "AttributeDict({'blockHash': HexBytes('0x59dd64f3858e18d6235a322a7570e572ff65b637b224e1a93a4ae5fa3b737911'), 'blockNumber': 5682298, 'contractAddress': None, 'cumulativeGasUsed': 2931540, 'from': '0x0635c434ec5f88f7dc8e44e0b878116d71d2a658', 'gasUsed': 54416, 'logs': [AttributeDict({'address': '0x4ab8Dda9Af5eA9D8d02bc0735066a48B11F5cFC8', 'topics': [HexBytes('0xf4757a49b326036464bec6fe419a4ae38c8a02ce3e68bf0809674f6aab8ad300')], 'data': '0x0000000000000000000000000635c434ec5f88f7dc8e44e0b878116d71d2a658000000000000000000000000000000000000000000000000008e1bc9bf040000', 'blockNumber': 5682298, 'transactionHash': HexBytes('0x8e829a28298c2f4133b0db8f23b2210fd5bdde4bc103ffe15973a99b58a81928'), 'transactionIndex': 7, 'blockHash': HexBytes('0x59dd64f3858e18d6235a322a7570e572ff65b637b224e1a93a4ae5fa3b737911'), 'logIndex': 45, 'removed': False})], 'logsBloom': HexBytes('0x00000000000000000000000000800000000000000000000000000000000000000000000000000000000000000000000000000000000000000010000000000000000000000000000000000000000000000000000000000400000000000000000000000000000000000000000000000000000000000000000000000000000000000000440000000000000000000000000000000000000000000000000000000000000000000000000000000000000000000000000000000000000100000000000000000000000000000000000000000000000000000000000000000000000000000000000000000000000000000000000000000000000000000000000000000000'), 'status': 1, 'to': '0x4ab8dda9af5ea9d8d02bc0735066a48b11f5cfc8', 'transactionHash': HexBytes('0x8e829a28298c2f4133b0db8f23b2210fd5bdde4bc103ffe15973a99b58a81928'), 'transactionIndex': 7})\n"
     ]
    }
   ],
   "source": [
    "# 1 ether 132,45$ | 5.30$ == 0.040 == 40 000 000 000 000 000 wei\n",
    "bid_tx = bid_obj.transact({\n",
    "    'from': guest_account_address,\n",
    "    'value': Web3.toWei(0.040, 'ether'),\n",
    "})\n",
    "print(w3.eth.waitForTransactionReceipt(bid_tx))"
   ]
  },
  {
   "cell_type": "code",
   "execution_count": 45,
   "metadata": {
    "pycharm": {}
   },
   "outputs": [
    {
     "name": "stdout",
     "output_type": "stream",
     "text": [
      "0x0635c434EC5F88F7Dc8E44E0B878116d71D2A658 highestBidder\n",
      "40000000000000000 highestBid\n"
     ]
    }
   ],
   "source": [
    "# get highestBidder using call()\n",
    "print(contract.functions.highestBidder().call(), 'highestBidder')\n",
    "# get highestBid\n",
    "print(contract.functions.highestBid().call(), 'highestBid')"
   ]
  },
  {
   "cell_type": "code",
   "execution_count": 46,
   "metadata": {
    "pycharm": {}
   },
   "outputs": [
    {
     "name": "stdout",
     "output_type": "stream",
     "text": [
      "737742023000001001 wei\n",
      "0.737742023000001001 ether\n"
     ]
    }
   ],
   "source": [
    "# get address balance before withdraw\n",
    "begin_owner_balance = w3.eth.getBalance(owner_account_address)\n",
    "print(begin_owner_balance, 'wei')\n",
    "print(Web3.fromWei(begin_owner_balance, 'ether'), 'ether')"
   ]
  },
  {
   "cell_type": "code",
   "execution_count": 47,
   "metadata": {
    "pycharm": {}
   },
   "outputs": [
    {
     "data": {
      "text/plain": [
       "True"
      ]
     },
     "execution_count": 47,
     "metadata": {},
     "output_type": "execute_result"
    }
   ],
   "source": [
    "# unlock account before transaction\n",
    "w3.personal.unlockAccount(owner_account_address, owner_account_password)"
   ]
  },
  {
   "cell_type": "code",
   "execution_count": 48,
   "metadata": {
    "pycharm": {}
   },
   "outputs": [
    {
     "name": "stdout",
     "output_type": "stream",
     "text": [
      "0x3d111a5ebb35efefdeccdf6a9a54863a676b35fd70c5ef0681ad508be23ab82e\n"
     ]
    }
   ],
   "source": [
    "# withdraw bid, owner\n",
    "withdraw_obj = contract.functions.withdraw()\n",
    "withdraw_tx = withdraw_obj.transact({\n",
    "    'from': owner_account_address,\n",
    "})\n",
    "print(withdraw_tx.hex())"
   ]
  },
  {
   "cell_type": "code",
   "execution_count": 49,
   "metadata": {
    "pycharm": {}
   },
   "outputs": [
    {
     "name": "stdout",
     "output_type": "stream",
     "text": [
      "AttributeDict({'blockHash': HexBytes('0x0f1c8b261321ca832a17c7636fc0e8b63d4907905f78d99608092ce5fcb3de9a'), 'blockNumber': 5682302, 'contractAddress': None, 'cumulativeGasUsed': 6997836, 'from': '0xdc88f96bcbedbd92539fefe2c91148cb67d272e4', 'gasUsed': 19410, 'logs': [], 'logsBloom': HexBytes('0x00000000000000000000000000000000000000000000000000000000000000000000000000000000000000000000000000000000000000000000000000000000000000000000000000000000000000000000000000000000000000000000000000000000000000000000000000000000000000000000000000000000000000000000000000000000000000000000000000000000000000000000000000000000000000000000000000000000000000000000000000000000000000000000000000000000000000000000000000000000000000000000000000000000000000000000000000000000000000000000000000000000000000000000000000000000'), 'status': 1, 'to': '0x4ab8dda9af5ea9d8d02bc0735066a48b11f5cfc8', 'transactionHash': HexBytes('0x3d111a5ebb35efefdeccdf6a9a54863a676b35fd70c5ef0681ad508be23ab82e'), 'transactionIndex': 42})\n"
     ]
    }
   ],
   "source": [
    "# Wait for the transaction to be mined, and get the transaction receipt\n",
    "print(w3.eth.waitForTransactionReceipt(withdraw_tx))"
   ]
  },
  {
   "cell_type": "code",
   "execution_count": 50,
   "metadata": {
    "pycharm": {}
   },
   "outputs": [
    {
     "name": "stdout",
     "output_type": "stream",
     "text": [
      "767722613000001001 wei\n",
      "0.767722613000001001 ether\n"
     ]
    }
   ],
   "source": [
    "# get address balance after withdraw\n",
    "begin_owner_balance = w3.eth.getBalance(owner_account_address)\n",
    "print(begin_owner_balance, 'wei')\n",
    "print(Web3.fromWei(begin_owner_balance, 'ether'), 'ether')"
   ]
  },
  {
   "cell_type": "code",
   "execution_count": 55,
   "metadata": {
    "pycharm": {}
   },
   "outputs": [
    {
     "name": "stdout",
     "output_type": "stream",
     "text": [
      "1558974963\n",
      "2019-05-27 16:36:03\n"
     ]
    }
   ],
   "source": [
    "# get auctionEndTime using call()\n",
    "auction_end_time = contract.functions.auctionEndTime().call()\n",
    "print(auction_end_time)\n",
    "from datetime import datetime\n",
    "print(datetime.utcfromtimestamp(auction_end_time).strftime('%Y-%m-%d %H:%M:%S'))"
   ]
  },
  {
   "cell_type": "code",
   "execution_count": 56,
   "metadata": {
    "pycharm": {}
   },
   "outputs": [
    {
     "name": "stdout",
     "output_type": "stream",
     "text": [
      "0xdC88f96BCBEdbD92539Fefe2c91148Cb67d272E4\n"
     ]
    }
   ],
   "source": [
    "# get beneficiary address\n",
    "print(contract.functions.beneficiary().call())"
   ]
  },
  {
   "cell_type": "code",
   "execution_count": 57,
   "metadata": {
    "pycharm": {}
   },
   "outputs": [
    {
     "data": {
      "text/plain": [
       "True"
      ]
     },
     "execution_count": 57,
     "metadata": {},
     "output_type": "execute_result"
    }
   ],
   "source": [
    "# unlock account to transact\n",
    "w3.personal.unlockAccount(owner_account_address, owner_account_password)"
   ]
  },
  {
   "cell_type": "code",
   "execution_count": 58,
   "metadata": {
    "pycharm": {}
   },
   "outputs": [
    {
     "name": "stdout",
     "output_type": "stream",
     "text": [
      "AttributeDict({'blockHash': HexBytes('0xc7bd23934e6f495bd0cb3db16db537b2dab13d2c6886299d24582b7bcf25754b'), 'blockNumber': 5682310, 'contractAddress': None, 'cumulativeGasUsed': 5225893, 'from': '0xdc88f96bcbedbd92539fefe2c91148cb67d272e4', 'gasUsed': 51919, 'logs': [AttributeDict({'address': '0x4ab8Dda9Af5eA9D8d02bc0735066a48B11F5cFC8', 'topics': [HexBytes('0xdaec4582d5d9595688c8c98545fdd1c696d41c6aeaeb636737e84ed2f5c00eda')], 'data': '0x0000000000000000000000000635c434ec5f88f7dc8e44e0b878116d71d2a658000000000000000000000000000000000000000000000000008e1bc9bf040000', 'blockNumber': 5682310, 'transactionHash': HexBytes('0x63297af797d7a0e554d3e202b869d2d0812db3a79d2c78bef636f199191bad1a'), 'transactionIndex': 42, 'blockHash': HexBytes('0xc7bd23934e6f495bd0cb3db16db537b2dab13d2c6886299d24582b7bcf25754b'), 'logIndex': 29, 'removed': False})], 'logsBloom': HexBytes('0x00000000000000000000000000000000000000000000000000000000000000000000000000000000000000000000000000000000000000000010000000000000000000000000000000000000000000000000000000000000000000000000000000000000000000000000000000000000000000000000000000000000000000000000440000000000000000000000000000000000000000000001000000000000000000000000000000000000000000000000000000000000000000000040000000000000000000000000001000000000000000000000000000000000000000000000000000000000000000000000000000000000000000000000000000000000'), 'status': 1, 'to': '0x4ab8dda9af5ea9d8d02bc0735066a48b11f5cfc8', 'transactionHash': HexBytes('0x63297af797d7a0e554d3e202b869d2d0812db3a79d2c78bef636f199191bad1a'), 'transactionIndex': 42})\n"
     ]
    }
   ],
   "source": [
    "# finish auction if now >= auctionEndTime, transfer data of highestBid to auction owner\n",
    "auction_end_obj = contract.functions.auctionEnd()\n",
    "auction_end_tx = auction_end_obj.transact({\n",
    "    'from': owner_account_address,\n",
    "})\n",
    "print(w3.eth.waitForTransactionReceipt(auction_end_tx.hex()))"
   ]
  },
  {
   "cell_type": "code",
   "execution_count": 59,
   "metadata": {
    "pycharm": {}
   },
   "outputs": [
    {
     "name": "stdout",
     "output_type": "stream",
     "text": [
      "0.767722613000001001 begin balance ether\n",
      "0.807670694000001001 end balance ether\n"
     ]
    }
   ],
   "source": [
    "# get address balance after auction\n",
    "owner_balance = w3.eth.getBalance(owner_account_address)\n",
    "print(Web3.fromWei(begin_owner_balance, 'ether'), 'begin balance ether')\n",
    "print(Web3.fromWei(owner_balance, 'ether'), 'end balance ether')"
   ]
  },
  {
   "cell_type": "code",
   "execution_count": null,
   "metadata": {},
   "outputs": [],
   "source": []
  }
 ],
 "metadata": {
  "kernelspec": {
   "display_name": "Python 3",
   "language": "python",
   "name": "python3"
  },
  "language_info": {
   "codemirror_mode": {
    "name": "ipython",
    "version": 3
   },
   "file_extension": ".py",
   "mimetype": "text/x-python",
   "name": "python",
   "nbconvert_exporter": "python",
   "pygments_lexer": "ipython3",
   "version": "3.7.0"
  },
  "pycharm": {
   "stem_cell": {
    "cell_type": "raw",
    "metadata": {
     "collapsed": false
    },
    "source": []
   }
  }
 },
 "nbformat": 4,
 "nbformat_minor": 2
}
